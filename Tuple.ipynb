{
  "nbformat": 4,
  "nbformat_minor": 0,
  "metadata": {
    "colab": {
      "name": "Tuple.ipynb",
      "provenance": [],
      "authorship_tag": "ABX9TyNAHjgRm76eIjkMIXJsOoP4",
      "include_colab_link": true
    },
    "kernelspec": {
      "name": "python3",
      "display_name": "Python 3"
    },
    "language_info": {
      "name": "python"
    }
  },
  "cells": [
    {
      "cell_type": "markdown",
      "metadata": {
        "id": "view-in-github",
        "colab_type": "text"
      },
      "source": [
        "<a href=\"https://colab.research.google.com/github/iammahendragit/BinarySearchTree-and-tuple/blob/main/Tuple.ipynb\" target=\"_parent\"><img src=\"https://colab.research.google.com/assets/colab-badge.svg\" alt=\"Open In Colab\"/></a>"
      ]
    },
    {
      "cell_type": "markdown",
      "source": [],
      "metadata": {
        "id": "tz18ayo92yak"
      }
    },
    {
      "cell_type": "code",
      "source": [],
      "metadata": {
        "id": "sFPZsLsILFKz"
      },
      "execution_count": null,
      "outputs": []
    },
    {
      "cell_type": "markdown",
      "source": [
        "Find The Size of  Tuple in Python using getsizeof()\n",
        "function"
      ],
      "metadata": {
        "id": "t3x9nSqwCTtZ"
      }
    },
    {
      "cell_type": "code",
      "source": [
        "import sys\n",
        "tuple1=(\"A\",1,\"B\",2,\"C\",3)\n",
        "tuple2=(\"ram\",'shyam',\"hari\",\"kkdd\",\"djkdj\")\n",
        "tuple3=((1,\"tiger\"),(2,\"bag\"),(3,\"nepal\"))\n",
        "print(\"First Tuple size   \"+str(sys.getsizeof(tuple1)) +\" Bytes\")\n",
        "print(\"Second Tuple size   \"+str(sys.getsizeof(tuple2)) +\" Bytes\")\n",
        "print(\"Third Tuple size   \"+str(sys.getsizeof(tuple3)) +\" Bytes\")\n"
      ],
      "metadata": {
        "colab": {
          "base_uri": "https://localhost:8080/"
        },
        "id": "CnULwo16CYjF",
        "outputId": "bfc32b11-64fe-44ba-84a1-6a3a919eddab"
      },
      "execution_count": null,
      "outputs": [
        {
          "output_type": "stream",
          "name": "stdout",
          "text": [
            "First Tuple size   104 Bytes\n",
            "Second Tuple size   96 Bytes\n",
            "Third Tuple size   80 Bytes\n"
          ]
        }
      ]
    },
    {
      "cell_type": "code",
      "source": [],
      "metadata": {
        "id": "JORyg_nsDoiw"
      },
      "execution_count": null,
      "outputs": []
    },
    {
      "cell_type": "markdown",
      "source": [
        "using inbuilt __sizeof__() method\n"
      ],
      "metadata": {
        "id": "_5eGrQcdEWzh"
      }
    },
    {
      "cell_type": "code",
      "source": [
        "tuple1=(\"A\",1,\"B\",2,\"C\",3)\n",
        "tuple2=(\"ram\",'shyam',\"hari\",\"kkdd\",\"djkdj\")\n",
        "tuple3=((1,\"tiger\"),(2,\"bag\"),(3,\"nepal\"))\n",
        "print(str(tuple1.__sizeof__()))\n",
        "print(str(tuple2.__sizeof__()))\n",
        "print(str(tuple3.__sizeof__()))"
      ],
      "metadata": {
        "colab": {
          "base_uri": "https://localhost:8080/"
        },
        "id": "WCDnp89uEiyU",
        "outputId": "02b810a0-a975-4b1e-96c7-214a0299f756"
      },
      "execution_count": null,
      "outputs": [
        {
          "output_type": "stream",
          "name": "stdout",
          "text": [
            "72\n",
            "64\n",
            "48\n"
          ]
        }
      ]
    },
    {
      "cell_type": "code",
      "source": [],
      "metadata": {
        "id": "Qxb5Tr19EkXM"
      },
      "execution_count": null,
      "outputs": []
    },
    {
      "cell_type": "markdown",
      "source": [
        "maximum and minimum key element of the tuple\n",
        "using sorted() + LOOP\n"
      ],
      "metadata": {
        "id": "c6eoDVTcFLEm"
      }
    },
    {
      "cell_type": "code",
      "source": [
        "test_tuple=(5, 20, 3, 7, 6, 8)\n",
        "print(\"The Original Tuple is \"+ str(test_tuple))\n",
        "k=1\n",
        "res=[]\n",
        "test_tuple=list(sorted(test_tuple))\n",
        "print(str(test_tuple))\n",
        "for idx, val in enumerate(test_tuple):\n",
        "  if idx<k or idx>=len(test_tuple)-k:\n",
        "    res.append(val)\n",
        "res=tuple(res)\n",
        "print(\"Extracted Value :\"+ str(res))\n",
        "    \n"
      ],
      "metadata": {
        "colab": {
          "base_uri": "https://localhost:8080/"
        },
        "id": "8s21uRvgF8my",
        "outputId": "9f37318f-ae96-421c-cb84-a23f9af23152"
      },
      "execution_count": 17,
      "outputs": [
        {
          "output_type": "stream",
          "name": "stdout",
          "text": [
            "The Original Tuple is (5, 20, 3, 7, 6, 8)\n",
            "[3, 5, 6, 7, 8, 20]\n",
            "Extracted Value :(3, 20)\n"
          ]
        }
      ]
    },
    {
      "cell_type": "code",
      "source": [],
      "metadata": {
        "id": "sbxVAnrIJDGu"
      },
      "execution_count": null,
      "outputs": []
    },
    {
      "cell_type": "markdown",
      "source": [
        "Using list slicing + sorted() "
      ],
      "metadata": {
        "id": "9wa4ExSqWGgP"
      }
    },
    {
      "cell_type": "code",
      "source": [
        "test_tp=(5,20,3,4,7,5,6)\n",
        "print(\"The original tuple is :\"+ str(test_tp))\n",
        "k=1\n",
        "test_tp=list(test_tp)\n",
        "test_tp=sorted(test_tp)\n",
        "res=test_tp[:k]+ test_tp[-k:]\n",
        "res=tuple(res)\n",
        "print(\"FINAL tuple is :\"+str(res))"
      ],
      "metadata": {
        "id": "VsGu3vS1WHs-",
        "colab": {
          "base_uri": "https://localhost:8080/"
        },
        "outputId": "f411ae69-a3d1-4a3a-f712-ee11c1c97089"
      },
      "execution_count": 22,
      "outputs": [
        {
          "output_type": "stream",
          "name": "stdout",
          "text": [
            "The original tuple is :(5, 20, 3, 4, 7, 5, 6)\n",
            "FINAL tuple is :(3, 20)\n"
          ]
        }
      ]
    },
    {
      "cell_type": "code",
      "source": [
        "from itertools import groupby\n",
        "\n"
      ],
      "metadata": {
        "id": "PS3UI0RFepow"
      },
      "execution_count": 23,
      "outputs": []
    },
    {
      "cell_type": "code",
      "source": [
        "numbers = [1, 1, 1, 3, 3, 2, 2, 2, 1, 1]\n",
        "import itertools\n",
        "for (key,group) in itertools.groupby(numbers):\n",
        "  print(key,list(group))"
      ],
      "metadata": {
        "colab": {
          "base_uri": "https://localhost:8080/"
        },
        "id": "3aXJiO0ugjQQ",
        "outputId": "9fcdfd7c-e902-4694-a795-bd67b551a3fb"
      },
      "execution_count": 24,
      "outputs": [
        {
          "output_type": "stream",
          "name": "stdout",
          "text": [
            "1 [1, 1, 1]\n",
            "3 [3, 3]\n",
            "2 [2, 2, 2]\n",
            "1 [1, 1]\n"
          ]
        }
      ]
    },
    {
      "cell_type": "code",
      "source": [
        "numbers =  'aaaaabbbbbb'\n",
        "from itertools import groupby\n",
        "hi=[]\n",
        "for key,group in groupby(numbers):\n",
        "  hi.append(key)\n",
        "\n",
        "# print(','.join(hi))\n",
        "print(hi)\n"
      ],
      "metadata": {
        "colab": {
          "base_uri": "https://localhost:8080/"
        },
        "id": "f2IoGK5Hg3UY",
        "outputId": "44d6cc36-4023-47b4-85b8-830cd7b93d46"
      },
      "execution_count": 32,
      "outputs": [
        {
          "output_type": "stream",
          "name": "stdout",
          "text": [
            "['a', 'b']\n"
          ]
        }
      ]
    },
    {
      "cell_type": "code",
      "source": [
        "def ip_address(address):\n",
        "    new_address = \"\"\n",
        "    split_address = address.split(\".\")\n",
        "    separator = \"[.]\"\n",
        "    new_address = separator.join(split_address)\n",
        "    return new_address\n",
        "ipaddress = ip_address(\"1.1.2.3\")\n",
        "print(ipaddress)"
      ],
      "metadata": {
        "colab": {
          "base_uri": "https://localhost:8080/"
        },
        "id": "n5yaqY_AhuRF",
        "outputId": "ba8b6d1d-4e47-40a9-ab49-5aa5ae469aa3"
      },
      "execution_count": 33,
      "outputs": [
        {
          "output_type": "stream",
          "name": "stdout",
          "text": [
            "1[.]1[.]2[.]3\n"
          ]
        }
      ]
    },
    {
      "cell_type": "code",
      "source": [],
      "metadata": {
        "id": "4cURShKUxZ3J"
      },
      "execution_count": null,
      "outputs": []
    },
    {
      "cell_type": "code",
      "source": [
        "class binarytree:\n",
        "  def __init__(self,val):\n",
        "    self.val=val\n",
        "    self.leftnode=leftnode\n",
        "    self.rightnode=rightnode\n",
        "\n",
        "import sys\n",
        "class BinarySearchTree:\n",
        "  def validate_BST(self,root:binarytree)->bool:\n",
        "    return self.valid(root,sys.maxsize,-sys.maxsize)\n",
        "  def valid(self,root,max_,min_):\n",
        "    if root==None:\n",
        "      return True\n",
        "    else:\n",
        "      return False\n",
        "    return self.valid(root.leftnode,root.val,min_) and self.valid(root.rightnode,max_,root.val)"
      ],
      "metadata": {
        "id": "NbwXO1aAx6z9"
      },
      "execution_count": 34,
      "outputs": []
    },
    {
      "cell_type": "code",
      "source": [],
      "metadata": {
        "id": "WKuJKb0czhz7"
      },
      "execution_count": null,
      "outputs": []
    }
  ]
}